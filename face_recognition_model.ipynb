{
  "nbformat": 4,
  "nbformat_minor": 0,
  "metadata": {
    "colab": {
      "provenance": []
    },
    "kernelspec": {
      "name": "python3",
      "display_name": "Python 3"
    },
    "language_info": {
      "name": "python"
    }
  },
  "cells": [
    {
      "cell_type": "markdown",
      "source": [
        "Need to upload:\n",
        "* train.zip\n",
        "* test.zip_file_path\n",
        "\n",
        "or\n",
        "\n",
        "* trainX.pkl\n",
        "* trainy.pkl\n",
        "* testX.pkl\n",
        "* testy.pkl\n"
      ],
      "metadata": {
        "id": "xH1NjFZI7Zvd"
      }
    },
    {
      "cell_type": "code",
      "source": [
        "!pip install keras_facenet"
      ],
      "metadata": {
        "id": "eNCEp_oOkfRN",
        "colab": {
          "base_uri": "https://localhost:8080/"
        },
        "outputId": "4ad64be0-0201-49bb-d250-c0b05956fae3"
      },
      "execution_count": 1,
      "outputs": [
        {
          "output_type": "stream",
          "name": "stdout",
          "text": [
            "Collecting keras_facenet\n",
            "  Downloading keras-facenet-0.3.2.tar.gz (10 kB)\n",
            "  Preparing metadata (setup.py) ... \u001b[?25l\u001b[?25hdone\n",
            "Collecting mtcnn (from keras_facenet)\n",
            "  Downloading mtcnn-0.1.1-py3-none-any.whl (2.3 MB)\n",
            "\u001b[2K     \u001b[90m━━━━━━━━━━━━━━━━━━━━━━━━━━━━━━━━━━━━━━━━\u001b[0m \u001b[32m2.3/2.3 MB\u001b[0m \u001b[31m11.9 MB/s\u001b[0m eta \u001b[36m0:00:00\u001b[0m\n",
            "\u001b[?25hRequirement already satisfied: keras>=2.0.0 in /usr/local/lib/python3.10/dist-packages (from mtcnn->keras_facenet) (2.15.0)\n",
            "Requirement already satisfied: opencv-python>=4.1.0 in /usr/local/lib/python3.10/dist-packages (from mtcnn->keras_facenet) (4.8.0.76)\n",
            "Requirement already satisfied: numpy>=1.21.2 in /usr/local/lib/python3.10/dist-packages (from opencv-python>=4.1.0->mtcnn->keras_facenet) (1.23.5)\n",
            "Building wheels for collected packages: keras_facenet\n",
            "  Building wheel for keras_facenet (setup.py) ... \u001b[?25l\u001b[?25hdone\n",
            "  Created wheel for keras_facenet: filename=keras_facenet-0.3.2-py3-none-any.whl size=10368 sha256=bba229e7a384117053220afc91e2fcfb207b07149a46f5ec62b032fa186bc06f\n",
            "  Stored in directory: /root/.cache/pip/wheels/1d/d8/a9/85cf04ea29321d2afcb82c0caaafdca9195385f9d68cbc7185\n",
            "Successfully built keras_facenet\n",
            "Installing collected packages: mtcnn, keras_facenet\n",
            "Successfully installed keras_facenet-0.3.2 mtcnn-0.1.1\n"
          ]
        }
      ]
    },
    {
      "cell_type": "code",
      "source": [
        "from sklearn.metrics import confusion_matrix, classification_report\n",
        "import seaborn as sns\n",
        "import matplotlib.pyplot as plt\n",
        "from sklearn.model_selection import train_test_split\n",
        "from sklearn.preprocessing import LabelEncoder\n",
        "from keras.models import Sequential\n",
        "from keras.layers import Dense\n",
        "from keras.utils import to_categorical\n",
        "import numpy as np\n",
        "import zipfile\n",
        "import os\n",
        "import pickle\n",
        "from tensorflow.keras.models import load_model\n",
        "\n"
      ],
      "metadata": {
        "id": "n0XS9MQOkbn1"
      },
      "execution_count": 11,
      "outputs": []
    },
    {
      "cell_type": "markdown",
      "source": [
        "Unpacking train and test data"
      ],
      "metadata": {
        "id": "75-BMOYGmw30"
      }
    },
    {
      "cell_type": "code",
      "execution_count": null,
      "metadata": {
        "id": "YZHuOrApfvgU"
      },
      "outputs": [],
      "source": [
        "\n",
        "zip_file_path = '/content/test.zip'\n",
        "\n",
        "extract_folder_path = '/content/test'\n",
        "\n",
        "with zipfile.ZipFile(zip_file_path, 'r') as zip_ref:\n",
        "    zip_ref.extractall(extract_folder_path)\n",
        "\n",
        "zip_file_path1 = '/content/train.zip'\n",
        "\n",
        "extract_folder_path1 = '/content/train'\n",
        "\n",
        "with zipfile.ZipFile(zip_file_path1, 'r') as zip_ref:\n",
        "    zip_ref.extractall(extract_folder_path1)\n",
        "\n"
      ]
    },
    {
      "cell_type": "markdown",
      "source": [
        "Getting face embeddings using FaceNet\n"
      ],
      "metadata": {
        "id": "VK6I53kAm1IA"
      }
    },
    {
      "cell_type": "code",
      "source": [
        "embedder = FaceNet()\n",
        "\n",
        "def get_embeddings(face_img_path):\n",
        "    face_img = cv2.imread(face_img_path)\n",
        "    face_img = face_img.astype('float32')\n",
        "    face_img = np.expand_dims(face_img, axis=0)\n",
        "    yhat = embedder.embeddings(face_img)\n",
        "    return yhat[0]"
      ],
      "metadata": {
        "id": "Sd5_ApHrjaSG"
      },
      "execution_count": null,
      "outputs": []
    },
    {
      "cell_type": "code",
      "source": [
        "main_folder_path = '/content/train'\n",
        "\n",
        "subfolders = [f.path for f in os.scandir(main_folder_path) if f.is_dir()]\n",
        "new_trainX = list()\n",
        "new_trainy = list()\n",
        "\n",
        "for subfolder in subfolders:\n",
        "    print(f\"Processing images in folder: {subfolder}\")\n",
        "    images = [f.path for f in os.scandir(subfolder) if f.is_file() and f.name.endswith(('.jpg', '.png', '.jpeg'))]\n",
        "    for image in images:\n",
        "      new_trainX.append(get_embeddings(image))\n",
        "      new_trainy.append(subfolder.split('/')[-1])\n",
        "\n",
        "\n"
      ],
      "metadata": {
        "id": "qg8BDE4mjawG"
      },
      "execution_count": null,
      "outputs": []
    },
    {
      "cell_type": "code",
      "source": [
        "main_folder_path = '/content/test'\n",
        "\n",
        "subfolders = [f.path for f in os.scandir(main_folder_path) if f.is_dir()]\n",
        "new_testX = list()\n",
        "new_testy = list()\n",
        "\n",
        "for subfolder in subfolders:\n",
        "    print(f\"Processing images in folder: {subfolder}\")\n",
        "    images = [f.path for f in os.scandir(subfolder) if f.is_file() and f.name.endswith(('.jpg', '.png', '.jpeg'))]\n",
        "    for image in images:\n",
        "      new_testX.append(get_embeddings(image))\n",
        "      new_testy.append(subfolder.split('/')[-1])\n",
        "\n",
        "\n"
      ],
      "metadata": {
        "id": "1r3bUl1ljwa1"
      },
      "execution_count": null,
      "outputs": []
    },
    {
      "cell_type": "code",
      "source": [
        "with open('trainX.pkl', 'wb') as file:\n",
        "    pickle.dump(new_trainX, file)\n",
        "with open('trainy.pkl', 'wb') as file:\n",
        "    pickle.dump(new_trainy, file)\n",
        "with open('testX.pkl', 'wb') as file:\n",
        "    pickle.dump(new_testX, file)\n",
        "with open('testy.pkl', 'wb') as file:\n",
        "    pickle.dump(new_testy, file)"
      ],
      "metadata": {
        "id": "Ew16x4amkCgU"
      },
      "execution_count": null,
      "outputs": []
    },
    {
      "cell_type": "code",
      "source": [
        "# with open('trainX.pkl', 'rb') as file:\n",
        "#     new_trainX =  pickle.load(file)\n",
        "# with open('trainy.pkl', 'rb') as file:\n",
        "#     new_trainy =  pickle.load(file)\n",
        "# with open('testX.pkl', 'rb') as file:\n",
        "#     new_testX =  pickle.load(file)\n",
        "# with open('testy.pkl', 'rb') as file:\n",
        "#     new_testy =  pickle.load(file)"
      ],
      "metadata": {
        "id": "VJ-zCLlB75AW"
      },
      "execution_count": 9,
      "outputs": []
    },
    {
      "cell_type": "markdown",
      "source": [
        "Model training and evaluation\n"
      ],
      "metadata": {
        "id": "8Mn-rBH3m6of"
      }
    },
    {
      "cell_type": "code",
      "source": [
        "valid_labels = ['Emilka', 'Julka', 'Kacper', 'Kaja', 'Karolina', 'Kuba', 'Maciek', 'Madzia', 'Ola', 'Sylwia', 'Szczepan']\n",
        "filtered_train_indices = [i for i, label in enumerate(new_trainy) if label in valid_labels]\n",
        "filtered_test_indices = [i for i, label in enumerate(new_testy) if label in valid_labels]\n",
        "\n",
        "filtered_trainX = np.asarray(new_trainX)[filtered_train_indices]\n",
        "filtered_testX = np.asarray(new_testX)[filtered_test_indices]\n",
        "\n",
        "filtered_trainy = np.asarray(new_trainy)[filtered_train_indices]\n",
        "filtered_testy = np.asarray(new_testy)[filtered_test_indices]\n",
        "\n",
        "label_encoder = LabelEncoder()\n",
        "label_encoder.fit(valid_labels)\n",
        "\n",
        "filtered_trainy_encoded = label_encoder.transform(filtered_trainy)\n",
        "filtered_testy_encoded = label_encoder.transform(filtered_testy)\n",
        "\n",
        "num_classes = len(valid_labels)\n",
        "filtered_trainy_one_hot = to_categorical(filtered_trainy_encoded, num_classes)\n",
        "filtered_testy_one_hot = to_categorical(filtered_testy_encoded, num_classes)\n",
        "\n",
        "trainX, valX, trainy, valy = train_test_split(filtered_trainX, filtered_trainy_one_hot, test_size=0.2, random_state=42)"
      ],
      "metadata": {
        "id": "Cw-H7qyV8SjG"
      },
      "execution_count": 10,
      "outputs": []
    },
    {
      "cell_type": "code",
      "source": [
        "model = Sequential()\n",
        "model.add(Dense(256, input_shape=(512,), activation='relu'))\n",
        "model.add(Dense(128, activation='relu'))\n",
        "model.add(Dense(64, activation='relu'))\n",
        "model.add(Dense(32, activation='relu'))\n",
        "model.add(Dense(num_classes, activation='softmax'))\n",
        "\n",
        "model.compile(optimizer='sgd', loss='categorical_crossentropy', metrics=['accuracy'])\n",
        "\n",
        "epochs = 20\n",
        "batch_size = 32\n",
        "\n",
        "history = model.fit(trainX, trainy, epochs=epochs, batch_size=batch_size, validation_data=(valX, valy))\n",
        "\n",
        "\n",
        "model.save(\"recognize_people5.h5\")\n",
        "# files.download(\"recognize_people5.h5\")\n"
      ],
      "metadata": {
        "id": "8F-xQB4Wj-HE"
      },
      "execution_count": null,
      "outputs": []
    },
    {
      "cell_type": "code",
      "source": [
        "model.summary()\n"
      ],
      "metadata": {
        "colab": {
          "base_uri": "https://localhost:8080/"
        },
        "id": "k-JLOFrhBHYX",
        "outputId": "5471fe67-8697-4df5-8051-f2d292f4ba7d"
      },
      "execution_count": 17,
      "outputs": [
        {
          "output_type": "stream",
          "name": "stdout",
          "text": [
            "Model: \"sequential_29\"\n",
            "_________________________________________________________________\n",
            " Layer (type)                Output Shape              Param #   \n",
            "=================================================================\n",
            " dense_156 (Dense)           (None, 256)               131328    \n",
            "                                                                 \n",
            " dense_157 (Dense)           (None, 128)               32896     \n",
            "                                                                 \n",
            " dense_158 (Dense)           (None, 64)                8256      \n",
            "                                                                 \n",
            " dense_159 (Dense)           (None, 32)                2080      \n",
            "                                                                 \n",
            " dense_160 (Dense)           (None, 11)                363       \n",
            "                                                                 \n",
            "=================================================================\n",
            "Total params: 174923 (683.29 KB)\n",
            "Trainable params: 174923 (683.29 KB)\n",
            "Non-trainable params: 0 (0.00 Byte)\n",
            "_________________________________________________________________\n"
          ]
        }
      ]
    },
    {
      "cell_type": "code",
      "source": [
        "test_loss, test_accuracy = model.evaluate(filtered_testX, filtered_testy_one_hot)\n",
        "print(f'Test Loss: {test_loss}, Test Accuracy: {test_accuracy}')"
      ],
      "metadata": {
        "colab": {
          "base_uri": "https://localhost:8080/"
        },
        "id": "znFf9R8cA3Eq",
        "outputId": "4b29c50e-c21c-4bc4-cdd9-7c6f0ff227e5"
      },
      "execution_count": 15,
      "outputs": [
        {
          "output_type": "stream",
          "name": "stdout",
          "text": [
            "52/52 [==============================] - 1s 4ms/step - loss: 0.0530 - accuracy: 0.9892\n",
            "Test Loss: 0.05300178378820419, Test Accuracy: 0.989182710647583\n"
          ]
        }
      ]
    },
    {
      "cell_type": "code",
      "source": [
        "\n",
        "y_pred = np.argmax(model.predict(filtered_testX), axis=1)\n",
        "y_true = np.argmax(filtered_testy_one_hot, axis=1)\n",
        "\n",
        "\n",
        "conf_matrix = confusion_matrix(y_true, y_pred, labels=np.arange(num_classes))\n",
        "\n",
        "\n",
        "plt.figure(figsize=(10, 8))\n",
        "sns.heatmap(conf_matrix, annot=True, fmt='d', cmap='Blues', xticklabels=valid_labels, yticklabels=valid_labels)\n",
        "plt.xlabel('Predicted')\n",
        "plt.ylabel('True')\n",
        "plt.title('Confusion Matrix')\n",
        "plt.show()\n"
      ],
      "metadata": {
        "id": "bRQadweJnA2J",
        "colab": {
          "base_uri": "https://localhost:8080/",
          "height": 735
        },
        "outputId": "eccbe143-5b8f-4b10-cedf-fba397e0d80c"
      },
      "execution_count": 13,
      "outputs": [
        {
          "output_type": "stream",
          "name": "stdout",
          "text": [
            "52/52 [==============================] - 0s 2ms/step\n"
          ]
        },
        {
          "output_type": "display_data",
          "data": {
            "text/plain": [
              "<Figure size 1000x800 with 2 Axes>"
            ],
            "image/png": "[encoded data removed]"
          },
          "metadata": {}
        }
      ]
    },
    {
      "cell_type": "code",
      "source": [
        "class_report = classification_report(y_true, y_pred, target_names=valid_labels)\n",
        "print(\"Classification Report:\\n\", class_report)"
      ],
      "metadata": {
        "id": "27NKE82vnCpt",
        "colab": {
          "base_uri": "https://localhost:8080/"
        },
        "outputId": "51d37813-df93-4d43-8ba9-ae4c91227cc6"
      },
      "execution_count": 14,
      "outputs": [
        {
          "output_type": "stream",
          "name": "stdout",
          "text": [
            "Classification Report:\n",
            "               precision    recall  f1-score   support\n",
            "\n",
            "      Emilka       0.99      1.00      0.99       171\n",
            "       Julka       0.99      1.00      0.99        79\n",
            "      Kacper       1.00      0.98      0.99       141\n",
            "        Kaja       0.99      0.98      0.99       165\n",
            "    Karolina       0.99      0.96      0.97       112\n",
            "        Kuba       0.98      1.00      0.99       126\n",
            "      Maciek       1.00      0.98      0.99       165\n",
            "      Madzia       0.99      1.00      1.00       166\n",
            "         Ola       0.99      0.99      0.99       271\n",
            "      Sylwia       0.99      0.99      0.99       166\n",
            "    Szczepan       0.94      1.00      0.97       102\n",
            "\n",
            "    accuracy                           0.99      1664\n",
            "   macro avg       0.99      0.99      0.99      1664\n",
            "weighted avg       0.99      0.99      0.99      1664\n",
            "\n"
          ]
        }
      ]
    }
  ]
}